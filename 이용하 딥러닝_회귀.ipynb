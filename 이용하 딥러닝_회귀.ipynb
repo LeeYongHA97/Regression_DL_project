{
  "nbformat": 4,
  "nbformat_minor": 0,
  "metadata": {
    "colab": {
      "provenance": [],
      "gpuType": "T4"
    },
    "kernelspec": {
      "name": "python3",
      "display_name": "Python 3"
    },
    "language_info": {
      "name": "python"
    },
    "accelerator": "GPU"
  },
  "cells": [
    {
      "cell_type": "code",
      "execution_count": null,
      "metadata": {
        "id": "R1tUrWDXh8W_"
      },
      "outputs": [],
      "source": []
    },
    {
      "cell_type": "code",
      "source": [
        "import torch\n",
        "import torch.nn as nn\n",
        "import torch.optim as optim\n",
        "from torch.utils.data import DataLoader, TensorDataset\n",
        "import pandas as pd\n",
        "from sklearn.model_selection import train_test_split\n",
        "from sklearn.preprocessing import StandardScaler\n",
        "import time  # 시간 측정을 위한 모듈\n",
        "from tqdm import tqdm\n",
        "import os\n",
        "from sklearn.metrics import r2_score\n"
      ],
      "metadata": {
        "id": "kwDjkCy2iJrE"
      },
      "execution_count": 2,
      "outputs": []
    },
    {
      "cell_type": "code",
      "source": [
        "##### train.csv 전처리\n",
        "data_train = pd.read_csv('train.csv',encoding='euc-kr')\n",
        "\n",
        "# DataFrame 생성\n",
        "df_train = pd.DataFrame(data_train)\n",
        "\n",
        "# date_time에서 시간 추출\n",
        "df_train['hour'] = pd.to_datetime(df_train['date_time']).dt.hour\n",
        "\n",
        "# 시간대에 따른 time 변수 생성 (0~5 -> 0, 6~11 -> 1, 12~17 -> 2, 18~23 -> 3)\n",
        "df_train['time'] = pd.cut(df_train['hour'], bins=[-1, 5, 11, 17, 23], labels=[0, 1, 2, 3])\n",
        "\n",
        "# date_time 열 삭제, hour 열 삭제\n",
        "df_train.drop(columns = ['date_time'],inplace = True)\n",
        "df_train.drop(columns = ['hour'],inplace = True)\n",
        "# 결과 확인\n",
        "print(df_train.isna().sum())\n",
        "df_train"
      ],
      "metadata": {
        "colab": {
          "base_uri": "https://localhost:8080/",
          "height": 623
        },
        "id": "b1-PYdibiMQ4",
        "outputId": "1cece973-03d7-44e2-e2d3-7bea7995967b"
      },
      "execution_count": 3,
      "outputs": [
        {
          "output_type": "stream",
          "name": "stdout",
          "text": [
            "num           0\n",
            "전력사용량(kWh)    0\n",
            "기온(°C)        0\n",
            "풍속(m/s)       0\n",
            "습도(%)         0\n",
            "강수량(mm)       0\n",
            "일조(hr)        0\n",
            "비전기냉방설비운영     0\n",
            "태양광보유         0\n",
            "time          0\n",
            "dtype: int64\n"
          ]
        },
        {
          "output_type": "execute_result",
          "data": {
            "text/plain": [
              "        num  전력사용량(kWh)  기온(°C)  풍속(m/s)  습도(%)  강수량(mm)  일조(hr)  비전기냉방설비운영  \\\n",
              "0         1    8179.056    17.6      2.5   92.0      0.8     0.0        0.0   \n",
              "1         1    8135.640    17.7      2.9   91.0      0.3     0.0        0.0   \n",
              "2         1    8107.128    17.5      3.2   91.0      0.0     0.0        0.0   \n",
              "3         1    8048.808    17.1      3.2   91.0      0.0     0.0        0.0   \n",
              "4         1    8043.624    17.0      3.3   92.0      0.0     0.0        0.0   \n",
              "...     ...         ...     ...      ...    ...      ...     ...        ...   \n",
              "122395   60    4114.368    27.8      2.3   68.0      0.0     0.7        1.0   \n",
              "122396   60    3975.696    27.3      1.2   71.0      0.0     0.0        1.0   \n",
              "122397   60    3572.208    27.3      1.8   71.0      0.0     0.0        1.0   \n",
              "122398   60    3299.184    27.1      1.8   74.0      0.0     0.0        1.0   \n",
              "122399   60    3204.576    27.1      2.6   75.0      0.0     0.0        1.0   \n",
              "\n",
              "        태양광보유 time  \n",
              "0         0.0    0  \n",
              "1         0.0    0  \n",
              "2         0.0    0  \n",
              "3         0.0    0  \n",
              "4         0.0    0  \n",
              "...       ...  ...  \n",
              "122395    1.0    3  \n",
              "122396    1.0    3  \n",
              "122397    1.0    3  \n",
              "122398    1.0    3  \n",
              "122399    1.0    3  \n",
              "\n",
              "[122400 rows x 10 columns]"
            ],
            "text/html": [
              "\n",
              "  <div id=\"df-2e120b49-5b58-455d-b464-c00bd463c4d1\" class=\"colab-df-container\">\n",
              "    <div>\n",
              "<style scoped>\n",
              "    .dataframe tbody tr th:only-of-type {\n",
              "        vertical-align: middle;\n",
              "    }\n",
              "\n",
              "    .dataframe tbody tr th {\n",
              "        vertical-align: top;\n",
              "    }\n",
              "\n",
              "    .dataframe thead th {\n",
              "        text-align: right;\n",
              "    }\n",
              "</style>\n",
              "<table border=\"1\" class=\"dataframe\">\n",
              "  <thead>\n",
              "    <tr style=\"text-align: right;\">\n",
              "      <th></th>\n",
              "      <th>num</th>\n",
              "      <th>전력사용량(kWh)</th>\n",
              "      <th>기온(°C)</th>\n",
              "      <th>풍속(m/s)</th>\n",
              "      <th>습도(%)</th>\n",
              "      <th>강수량(mm)</th>\n",
              "      <th>일조(hr)</th>\n",
              "      <th>비전기냉방설비운영</th>\n",
              "      <th>태양광보유</th>\n",
              "      <th>time</th>\n",
              "    </tr>\n",
              "  </thead>\n",
              "  <tbody>\n",
              "    <tr>\n",
              "      <th>0</th>\n",
              "      <td>1</td>\n",
              "      <td>8179.056</td>\n",
              "      <td>17.6</td>\n",
              "      <td>2.5</td>\n",
              "      <td>92.0</td>\n",
              "      <td>0.8</td>\n",
              "      <td>0.0</td>\n",
              "      <td>0.0</td>\n",
              "      <td>0.0</td>\n",
              "      <td>0</td>\n",
              "    </tr>\n",
              "    <tr>\n",
              "      <th>1</th>\n",
              "      <td>1</td>\n",
              "      <td>8135.640</td>\n",
              "      <td>17.7</td>\n",
              "      <td>2.9</td>\n",
              "      <td>91.0</td>\n",
              "      <td>0.3</td>\n",
              "      <td>0.0</td>\n",
              "      <td>0.0</td>\n",
              "      <td>0.0</td>\n",
              "      <td>0</td>\n",
              "    </tr>\n",
              "    <tr>\n",
              "      <th>2</th>\n",
              "      <td>1</td>\n",
              "      <td>8107.128</td>\n",
              "      <td>17.5</td>\n",
              "      <td>3.2</td>\n",
              "      <td>91.0</td>\n",
              "      <td>0.0</td>\n",
              "      <td>0.0</td>\n",
              "      <td>0.0</td>\n",
              "      <td>0.0</td>\n",
              "      <td>0</td>\n",
              "    </tr>\n",
              "    <tr>\n",
              "      <th>3</th>\n",
              "      <td>1</td>\n",
              "      <td>8048.808</td>\n",
              "      <td>17.1</td>\n",
              "      <td>3.2</td>\n",
              "      <td>91.0</td>\n",
              "      <td>0.0</td>\n",
              "      <td>0.0</td>\n",
              "      <td>0.0</td>\n",
              "      <td>0.0</td>\n",
              "      <td>0</td>\n",
              "    </tr>\n",
              "    <tr>\n",
              "      <th>4</th>\n",
              "      <td>1</td>\n",
              "      <td>8043.624</td>\n",
              "      <td>17.0</td>\n",
              "      <td>3.3</td>\n",
              "      <td>92.0</td>\n",
              "      <td>0.0</td>\n",
              "      <td>0.0</td>\n",
              "      <td>0.0</td>\n",
              "      <td>0.0</td>\n",
              "      <td>0</td>\n",
              "    </tr>\n",
              "    <tr>\n",
              "      <th>...</th>\n",
              "      <td>...</td>\n",
              "      <td>...</td>\n",
              "      <td>...</td>\n",
              "      <td>...</td>\n",
              "      <td>...</td>\n",
              "      <td>...</td>\n",
              "      <td>...</td>\n",
              "      <td>...</td>\n",
              "      <td>...</td>\n",
              "      <td>...</td>\n",
              "    </tr>\n",
              "    <tr>\n",
              "      <th>122395</th>\n",
              "      <td>60</td>\n",
              "      <td>4114.368</td>\n",
              "      <td>27.8</td>\n",
              "      <td>2.3</td>\n",
              "      <td>68.0</td>\n",
              "      <td>0.0</td>\n",
              "      <td>0.7</td>\n",
              "      <td>1.0</td>\n",
              "      <td>1.0</td>\n",
              "      <td>3</td>\n",
              "    </tr>\n",
              "    <tr>\n",
              "      <th>122396</th>\n",
              "      <td>60</td>\n",
              "      <td>3975.696</td>\n",
              "      <td>27.3</td>\n",
              "      <td>1.2</td>\n",
              "      <td>71.0</td>\n",
              "      <td>0.0</td>\n",
              "      <td>0.0</td>\n",
              "      <td>1.0</td>\n",
              "      <td>1.0</td>\n",
              "      <td>3</td>\n",
              "    </tr>\n",
              "    <tr>\n",
              "      <th>122397</th>\n",
              "      <td>60</td>\n",
              "      <td>3572.208</td>\n",
              "      <td>27.3</td>\n",
              "      <td>1.8</td>\n",
              "      <td>71.0</td>\n",
              "      <td>0.0</td>\n",
              "      <td>0.0</td>\n",
              "      <td>1.0</td>\n",
              "      <td>1.0</td>\n",
              "      <td>3</td>\n",
              "    </tr>\n",
              "    <tr>\n",
              "      <th>122398</th>\n",
              "      <td>60</td>\n",
              "      <td>3299.184</td>\n",
              "      <td>27.1</td>\n",
              "      <td>1.8</td>\n",
              "      <td>74.0</td>\n",
              "      <td>0.0</td>\n",
              "      <td>0.0</td>\n",
              "      <td>1.0</td>\n",
              "      <td>1.0</td>\n",
              "      <td>3</td>\n",
              "    </tr>\n",
              "    <tr>\n",
              "      <th>122399</th>\n",
              "      <td>60</td>\n",
              "      <td>3204.576</td>\n",
              "      <td>27.1</td>\n",
              "      <td>2.6</td>\n",
              "      <td>75.0</td>\n",
              "      <td>0.0</td>\n",
              "      <td>0.0</td>\n",
              "      <td>1.0</td>\n",
              "      <td>1.0</td>\n",
              "      <td>3</td>\n",
              "    </tr>\n",
              "  </tbody>\n",
              "</table>\n",
              "<p>122400 rows × 10 columns</p>\n",
              "</div>\n",
              "    <div class=\"colab-df-buttons\">\n",
              "\n",
              "  <div class=\"colab-df-container\">\n",
              "    <button class=\"colab-df-convert\" onclick=\"convertToInteractive('df-2e120b49-5b58-455d-b464-c00bd463c4d1')\"\n",
              "            title=\"Convert this dataframe to an interactive table.\"\n",
              "            style=\"display:none;\">\n",
              "\n",
              "  <svg xmlns=\"http://www.w3.org/2000/svg\" height=\"24px\" viewBox=\"0 -960 960 960\">\n",
              "    <path d=\"M120-120v-720h720v720H120Zm60-500h600v-160H180v160Zm220 220h160v-160H400v160Zm0 220h160v-160H400v160ZM180-400h160v-160H180v160Zm440 0h160v-160H620v160ZM180-180h160v-160H180v160Zm440 0h160v-160H620v160Z\"/>\n",
              "  </svg>\n",
              "    </button>\n",
              "\n",
              "  <style>\n",
              "    .colab-df-container {\n",
              "      display:flex;\n",
              "      gap: 12px;\n",
              "    }\n",
              "\n",
              "    .colab-df-convert {\n",
              "      background-color: #E8F0FE;\n",
              "      border: none;\n",
              "      border-radius: 50%;\n",
              "      cursor: pointer;\n",
              "      display: none;\n",
              "      fill: #1967D2;\n",
              "      height: 32px;\n",
              "      padding: 0 0 0 0;\n",
              "      width: 32px;\n",
              "    }\n",
              "\n",
              "    .colab-df-convert:hover {\n",
              "      background-color: #E2EBFA;\n",
              "      box-shadow: 0px 1px 2px rgba(60, 64, 67, 0.3), 0px 1px 3px 1px rgba(60, 64, 67, 0.15);\n",
              "      fill: #174EA6;\n",
              "    }\n",
              "\n",
              "    .colab-df-buttons div {\n",
              "      margin-bottom: 4px;\n",
              "    }\n",
              "\n",
              "    [theme=dark] .colab-df-convert {\n",
              "      background-color: #3B4455;\n",
              "      fill: #D2E3FC;\n",
              "    }\n",
              "\n",
              "    [theme=dark] .colab-df-convert:hover {\n",
              "      background-color: #434B5C;\n",
              "      box-shadow: 0px 1px 3px 1px rgba(0, 0, 0, 0.15);\n",
              "      filter: drop-shadow(0px 1px 2px rgba(0, 0, 0, 0.3));\n",
              "      fill: #FFFFFF;\n",
              "    }\n",
              "  </style>\n",
              "\n",
              "    <script>\n",
              "      const buttonEl =\n",
              "        document.querySelector('#df-2e120b49-5b58-455d-b464-c00bd463c4d1 button.colab-df-convert');\n",
              "      buttonEl.style.display =\n",
              "        google.colab.kernel.accessAllowed ? 'block' : 'none';\n",
              "\n",
              "      async function convertToInteractive(key) {\n",
              "        const element = document.querySelector('#df-2e120b49-5b58-455d-b464-c00bd463c4d1');\n",
              "        const dataTable =\n",
              "          await google.colab.kernel.invokeFunction('convertToInteractive',\n",
              "                                                    [key], {});\n",
              "        if (!dataTable) return;\n",
              "\n",
              "        const docLinkHtml = 'Like what you see? Visit the ' +\n",
              "          '<a target=\"_blank\" href=https://colab.research.google.com/notebooks/data_table.ipynb>data table notebook</a>'\n",
              "          + ' to learn more about interactive tables.';\n",
              "        element.innerHTML = '';\n",
              "        dataTable['output_type'] = 'display_data';\n",
              "        await google.colab.output.renderOutput(dataTable, element);\n",
              "        const docLink = document.createElement('div');\n",
              "        docLink.innerHTML = docLinkHtml;\n",
              "        element.appendChild(docLink);\n",
              "      }\n",
              "    </script>\n",
              "  </div>\n",
              "\n",
              "\n",
              "<div id=\"df-35c7dcdb-d151-4e9d-a2a4-2c6ce32b8e7a\">\n",
              "  <button class=\"colab-df-quickchart\" onclick=\"quickchart('df-35c7dcdb-d151-4e9d-a2a4-2c6ce32b8e7a')\"\n",
              "            title=\"Suggest charts\"\n",
              "            style=\"display:none;\">\n",
              "\n",
              "<svg xmlns=\"http://www.w3.org/2000/svg\" height=\"24px\"viewBox=\"0 0 24 24\"\n",
              "     width=\"24px\">\n",
              "    <g>\n",
              "        <path d=\"M19 3H5c-1.1 0-2 .9-2 2v14c0 1.1.9 2 2 2h14c1.1 0 2-.9 2-2V5c0-1.1-.9-2-2-2zM9 17H7v-7h2v7zm4 0h-2V7h2v10zm4 0h-2v-4h2v4z\"/>\n",
              "    </g>\n",
              "</svg>\n",
              "  </button>\n",
              "\n",
              "<style>\n",
              "  .colab-df-quickchart {\n",
              "      --bg-color: #E8F0FE;\n",
              "      --fill-color: #1967D2;\n",
              "      --hover-bg-color: #E2EBFA;\n",
              "      --hover-fill-color: #174EA6;\n",
              "      --disabled-fill-color: #AAA;\n",
              "      --disabled-bg-color: #DDD;\n",
              "  }\n",
              "\n",
              "  [theme=dark] .colab-df-quickchart {\n",
              "      --bg-color: #3B4455;\n",
              "      --fill-color: #D2E3FC;\n",
              "      --hover-bg-color: #434B5C;\n",
              "      --hover-fill-color: #FFFFFF;\n",
              "      --disabled-bg-color: #3B4455;\n",
              "      --disabled-fill-color: #666;\n",
              "  }\n",
              "\n",
              "  .colab-df-quickchart {\n",
              "    background-color: var(--bg-color);\n",
              "    border: none;\n",
              "    border-radius: 50%;\n",
              "    cursor: pointer;\n",
              "    display: none;\n",
              "    fill: var(--fill-color);\n",
              "    height: 32px;\n",
              "    padding: 0;\n",
              "    width: 32px;\n",
              "  }\n",
              "\n",
              "  .colab-df-quickchart:hover {\n",
              "    background-color: var(--hover-bg-color);\n",
              "    box-shadow: 0 1px 2px rgba(60, 64, 67, 0.3), 0 1px 3px 1px rgba(60, 64, 67, 0.15);\n",
              "    fill: var(--button-hover-fill-color);\n",
              "  }\n",
              "\n",
              "  .colab-df-quickchart-complete:disabled,\n",
              "  .colab-df-quickchart-complete:disabled:hover {\n",
              "    background-color: var(--disabled-bg-color);\n",
              "    fill: var(--disabled-fill-color);\n",
              "    box-shadow: none;\n",
              "  }\n",
              "\n",
              "  .colab-df-spinner {\n",
              "    border: 2px solid var(--fill-color);\n",
              "    border-color: transparent;\n",
              "    border-bottom-color: var(--fill-color);\n",
              "    animation:\n",
              "      spin 1s steps(1) infinite;\n",
              "  }\n",
              "\n",
              "  @keyframes spin {\n",
              "    0% {\n",
              "      border-color: transparent;\n",
              "      border-bottom-color: var(--fill-color);\n",
              "      border-left-color: var(--fill-color);\n",
              "    }\n",
              "    20% {\n",
              "      border-color: transparent;\n",
              "      border-left-color: var(--fill-color);\n",
              "      border-top-color: var(--fill-color);\n",
              "    }\n",
              "    30% {\n",
              "      border-color: transparent;\n",
              "      border-left-color: var(--fill-color);\n",
              "      border-top-color: var(--fill-color);\n",
              "      border-right-color: var(--fill-color);\n",
              "    }\n",
              "    40% {\n",
              "      border-color: transparent;\n",
              "      border-right-color: var(--fill-color);\n",
              "      border-top-color: var(--fill-color);\n",
              "    }\n",
              "    60% {\n",
              "      border-color: transparent;\n",
              "      border-right-color: var(--fill-color);\n",
              "    }\n",
              "    80% {\n",
              "      border-color: transparent;\n",
              "      border-right-color: var(--fill-color);\n",
              "      border-bottom-color: var(--fill-color);\n",
              "    }\n",
              "    90% {\n",
              "      border-color: transparent;\n",
              "      border-bottom-color: var(--fill-color);\n",
              "    }\n",
              "  }\n",
              "</style>\n",
              "\n",
              "  <script>\n",
              "    async function quickchart(key) {\n",
              "      const quickchartButtonEl =\n",
              "        document.querySelector('#' + key + ' button');\n",
              "      quickchartButtonEl.disabled = true;  // To prevent multiple clicks.\n",
              "      quickchartButtonEl.classList.add('colab-df-spinner');\n",
              "      try {\n",
              "        const charts = await google.colab.kernel.invokeFunction(\n",
              "            'suggestCharts', [key], {});\n",
              "      } catch (error) {\n",
              "        console.error('Error during call to suggestCharts:', error);\n",
              "      }\n",
              "      quickchartButtonEl.classList.remove('colab-df-spinner');\n",
              "      quickchartButtonEl.classList.add('colab-df-quickchart-complete');\n",
              "    }\n",
              "    (() => {\n",
              "      let quickchartButtonEl =\n",
              "        document.querySelector('#df-35c7dcdb-d151-4e9d-a2a4-2c6ce32b8e7a button');\n",
              "      quickchartButtonEl.style.display =\n",
              "        google.colab.kernel.accessAllowed ? 'block' : 'none';\n",
              "    })();\n",
              "  </script>\n",
              "</div>\n",
              "\n",
              "  <div id=\"id_de4ccff4-82ce-4241-b060-4dc910d71bdd\">\n",
              "    <style>\n",
              "      .colab-df-generate {\n",
              "        background-color: #E8F0FE;\n",
              "        border: none;\n",
              "        border-radius: 50%;\n",
              "        cursor: pointer;\n",
              "        display: none;\n",
              "        fill: #1967D2;\n",
              "        height: 32px;\n",
              "        padding: 0 0 0 0;\n",
              "        width: 32px;\n",
              "      }\n",
              "\n",
              "      .colab-df-generate:hover {\n",
              "        background-color: #E2EBFA;\n",
              "        box-shadow: 0px 1px 2px rgba(60, 64, 67, 0.3), 0px 1px 3px 1px rgba(60, 64, 67, 0.15);\n",
              "        fill: #174EA6;\n",
              "      }\n",
              "\n",
              "      [theme=dark] .colab-df-generate {\n",
              "        background-color: #3B4455;\n",
              "        fill: #D2E3FC;\n",
              "      }\n",
              "\n",
              "      [theme=dark] .colab-df-generate:hover {\n",
              "        background-color: #434B5C;\n",
              "        box-shadow: 0px 1px 3px 1px rgba(0, 0, 0, 0.15);\n",
              "        filter: drop-shadow(0px 1px 2px rgba(0, 0, 0, 0.3));\n",
              "        fill: #FFFFFF;\n",
              "      }\n",
              "    </style>\n",
              "    <button class=\"colab-df-generate\" onclick=\"generateWithVariable('df_train')\"\n",
              "            title=\"Generate code using this dataframe.\"\n",
              "            style=\"display:none;\">\n",
              "\n",
              "  <svg xmlns=\"http://www.w3.org/2000/svg\" height=\"24px\"viewBox=\"0 0 24 24\"\n",
              "       width=\"24px\">\n",
              "    <path d=\"M7,19H8.4L18.45,9,17,7.55,7,17.6ZM5,21V16.75L18.45,3.32a2,2,0,0,1,2.83,0l1.4,1.43a1.91,1.91,0,0,1,.58,1.4,1.91,1.91,0,0,1-.58,1.4L9.25,21ZM18.45,9,17,7.55Zm-12,3A5.31,5.31,0,0,0,4.9,8.1,5.31,5.31,0,0,0,1,6.5,5.31,5.31,0,0,0,4.9,4.9,5.31,5.31,0,0,0,6.5,1,5.31,5.31,0,0,0,8.1,4.9,5.31,5.31,0,0,0,12,6.5,5.46,5.46,0,0,0,6.5,12Z\"/>\n",
              "  </svg>\n",
              "    </button>\n",
              "    <script>\n",
              "      (() => {\n",
              "      const buttonEl =\n",
              "        document.querySelector('#id_de4ccff4-82ce-4241-b060-4dc910d71bdd button.colab-df-generate');\n",
              "      buttonEl.style.display =\n",
              "        google.colab.kernel.accessAllowed ? 'block' : 'none';\n",
              "\n",
              "      buttonEl.onclick = () => {\n",
              "        google.colab.notebook.generateWithVariable('df_train');\n",
              "      }\n",
              "      })();\n",
              "    </script>\n",
              "  </div>\n",
              "\n",
              "    </div>\n",
              "  </div>\n"
            ],
            "application/vnd.google.colaboratory.intrinsic+json": {
              "type": "dataframe",
              "variable_name": "df_train"
            }
          },
          "metadata": {},
          "execution_count": 3
        }
      ]
    },
    {
      "cell_type": "code",
      "source": [
        "##### test.csv 전처리\n",
        "data_test = pd.read_csv('test.csv',encoding='euc-kr')\n",
        "df_test = pd.DataFrame(data_test)\n",
        "\n",
        "# 비전기냉방설비운영 열과 태양광보유 열 결측치 처리\n",
        "num_list = df_test['num'].drop_duplicates().values\n",
        "\n",
        "for i in num_list:\n",
        "    if df_test.loc[(df_test['num'] == i) & (df_test['date_time'] == '2020-08-25 00'), '비전기냉방설비운영'].isna().any():\n",
        "        # 조건에 맞는 값이 결측치일 때 0으로 수정\n",
        "        df_test.loc[df_test['num'] == i, '비전기냉방설비운영'] = 0\n",
        "    else:\n",
        "        # 조건에 맞는 값이 결측치가 아닐 때 1로 수정\n",
        "        df_test.loc[df_test['num'] == i, '비전기냉방설비운영'] = 1\n",
        "\n",
        "\n",
        "for i in num_list:\n",
        "    if df_test.loc[(df_test['num'] == i) & (df_test['date_time'] == '2020-08-25 00'), '비전기냉방설비운영'].isna().any():\n",
        "        # 조건에 맞는 값이 결측치일 때 0으로 수정\n",
        "        df_test.loc[df_test['num'] == i, '태양광보유'] = 0\n",
        "    else:\n",
        "        # 조건에 맞는 값이 결측치가 아닐 때 1로 수정\n",
        "        df_test.loc[df_test['num'] == i, '태양광보유'] = 1\n",
        "''' # 확인하는 코드\n",
        "for i in num_list:\n",
        "    print(f'{i} : ', df_test.loc[df_test['num']== i,'비전기냉방설비운영'].value_counts())\n",
        "for i in num_list:\n",
        "    print(f'{i} : ', df_test.loc[df_test['num']== i,'태양광보유'].value_counts())\n",
        "'''\n",
        "\n",
        "\n",
        "# date_time에서 시간 추출\n",
        "df_test['hour'] = pd.to_datetime(df_test['date_time']).dt.hour\n",
        "\n",
        "# 시간대에 따른 time 변수 생성 (0~5 -> 0, 6~11 -> 1, 12~17 -> 2, 18~23 -> 3)\n",
        "df_test['time'] = pd.cut(df_test['hour'], bins=[-1, 5, 11, 17, 23], labels=[0, 1, 2, 3])\n",
        "\n",
        "# 'date_time'을 인덱스로 설정\n",
        "df_test['date_time'] = pd.to_datetime(df_test['date_time'])\n",
        "df_test.set_index('date_time', inplace=True)\n",
        "\n",
        "# Time-based Interpolation\n",
        "df_test['기온(°C)'] = df_test['기온(°C)'].interpolate(method='time')\n",
        "df_test['풍속(m/s)'] = df_test['풍속(m/s)'].interpolate(method='time')\n",
        "df_test['습도(%)'] = df_test['습도(%)'].interpolate(method='time')\n",
        "df_test['강수량(mm, 6시간)'] = df_test['강수량(mm, 6시간)'].interpolate(method='time')\n",
        "df_test['일조(hr, 3시간)'] = df_test['일조(hr, 3시간)'].interpolate(method='time')\n",
        "\n",
        "# 불필요 열 버리기\n",
        "df_test.reset_index(inplace=True)\n",
        "df_test.drop(columns = ['date_time'],inplace = True)\n",
        "df_test.drop(columns = ['hour'],inplace = True)\n",
        "print(df_test.isna().sum())\n",
        "df_test"
      ],
      "metadata": {
        "colab": {
          "base_uri": "https://localhost:8080/",
          "height": 605
        },
        "id": "492bGag4iPKe",
        "outputId": "18d05ef0-c479-43fb-c6af-b2af1be95d39"
      },
      "execution_count": 4,
      "outputs": [
        {
          "output_type": "stream",
          "name": "stdout",
          "text": [
            "num             0\n",
            "기온(°C)          0\n",
            "풍속(m/s)         0\n",
            "습도(%)           0\n",
            "강수량(mm, 6시간)    0\n",
            "일조(hr, 3시간)     0\n",
            "비전기냉방설비운영       0\n",
            "태양광보유           0\n",
            "time            0\n",
            "dtype: int64\n"
          ]
        },
        {
          "output_type": "execute_result",
          "data": {
            "text/plain": [
              "       num     기온(°C)   풍속(m/s)      습도(%)  강수량(mm, 6시간)  일조(hr, 3시간)  \\\n",
              "0        1  27.800000  1.500000  74.000000           0.0     0.000000   \n",
              "1        1  27.433333  1.700000  75.000000           0.0     0.000000   \n",
              "2        1  27.066667  1.900000  76.000000           0.0     0.000000   \n",
              "3        1  27.300000  1.100000  78.000000           0.0     0.000000   \n",
              "4        1  25.333333  0.966667  93.333333           0.0     0.000000   \n",
              "...    ...        ...       ...        ...           ...          ...   \n",
              "10075   60  25.433333  2.866667  73.666667           0.0     1.133333   \n",
              "10076   60  24.466667  1.733333  78.333333           0.0     0.566667   \n",
              "10077   60  27.900000  4.100000  68.000000           0.0     0.000000   \n",
              "10078   60  27.900000  4.100000  68.000000           0.0     0.000000   \n",
              "10079   60  27.900000  4.100000  68.000000           0.0     0.000000   \n",
              "\n",
              "       비전기냉방설비운영  태양광보유 time  \n",
              "0            0.0    1.0    0  \n",
              "1            0.0    1.0    0  \n",
              "2            0.0    1.0    0  \n",
              "3            0.0    1.0    0  \n",
              "4            0.0    1.0    0  \n",
              "...          ...    ...  ...  \n",
              "10075        1.0    1.0    3  \n",
              "10076        1.0    1.0    3  \n",
              "10077        1.0    1.0    3  \n",
              "10078        1.0    1.0    3  \n",
              "10079        1.0    1.0    3  \n",
              "\n",
              "[10080 rows x 9 columns]"
            ],
            "text/html": [
              "\n",
              "  <div id=\"df-b8d7a709-9e91-497a-b8c7-f15ad02b4931\" class=\"colab-df-container\">\n",
              "    <div>\n",
              "<style scoped>\n",
              "    .dataframe tbody tr th:only-of-type {\n",
              "        vertical-align: middle;\n",
              "    }\n",
              "\n",
              "    .dataframe tbody tr th {\n",
              "        vertical-align: top;\n",
              "    }\n",
              "\n",
              "    .dataframe thead th {\n",
              "        text-align: right;\n",
              "    }\n",
              "</style>\n",
              "<table border=\"1\" class=\"dataframe\">\n",
              "  <thead>\n",
              "    <tr style=\"text-align: right;\">\n",
              "      <th></th>\n",
              "      <th>num</th>\n",
              "      <th>기온(°C)</th>\n",
              "      <th>풍속(m/s)</th>\n",
              "      <th>습도(%)</th>\n",
              "      <th>강수량(mm, 6시간)</th>\n",
              "      <th>일조(hr, 3시간)</th>\n",
              "      <th>비전기냉방설비운영</th>\n",
              "      <th>태양광보유</th>\n",
              "      <th>time</th>\n",
              "    </tr>\n",
              "  </thead>\n",
              "  <tbody>\n",
              "    <tr>\n",
              "      <th>0</th>\n",
              "      <td>1</td>\n",
              "      <td>27.800000</td>\n",
              "      <td>1.500000</td>\n",
              "      <td>74.000000</td>\n",
              "      <td>0.0</td>\n",
              "      <td>0.000000</td>\n",
              "      <td>0.0</td>\n",
              "      <td>1.0</td>\n",
              "      <td>0</td>\n",
              "    </tr>\n",
              "    <tr>\n",
              "      <th>1</th>\n",
              "      <td>1</td>\n",
              "      <td>27.433333</td>\n",
              "      <td>1.700000</td>\n",
              "      <td>75.000000</td>\n",
              "      <td>0.0</td>\n",
              "      <td>0.000000</td>\n",
              "      <td>0.0</td>\n",
              "      <td>1.0</td>\n",
              "      <td>0</td>\n",
              "    </tr>\n",
              "    <tr>\n",
              "      <th>2</th>\n",
              "      <td>1</td>\n",
              "      <td>27.066667</td>\n",
              "      <td>1.900000</td>\n",
              "      <td>76.000000</td>\n",
              "      <td>0.0</td>\n",
              "      <td>0.000000</td>\n",
              "      <td>0.0</td>\n",
              "      <td>1.0</td>\n",
              "      <td>0</td>\n",
              "    </tr>\n",
              "    <tr>\n",
              "      <th>3</th>\n",
              "      <td>1</td>\n",
              "      <td>27.300000</td>\n",
              "      <td>1.100000</td>\n",
              "      <td>78.000000</td>\n",
              "      <td>0.0</td>\n",
              "      <td>0.000000</td>\n",
              "      <td>0.0</td>\n",
              "      <td>1.0</td>\n",
              "      <td>0</td>\n",
              "    </tr>\n",
              "    <tr>\n",
              "      <th>4</th>\n",
              "      <td>1</td>\n",
              "      <td>25.333333</td>\n",
              "      <td>0.966667</td>\n",
              "      <td>93.333333</td>\n",
              "      <td>0.0</td>\n",
              "      <td>0.000000</td>\n",
              "      <td>0.0</td>\n",
              "      <td>1.0</td>\n",
              "      <td>0</td>\n",
              "    </tr>\n",
              "    <tr>\n",
              "      <th>...</th>\n",
              "      <td>...</td>\n",
              "      <td>...</td>\n",
              "      <td>...</td>\n",
              "      <td>...</td>\n",
              "      <td>...</td>\n",
              "      <td>...</td>\n",
              "      <td>...</td>\n",
              "      <td>...</td>\n",
              "      <td>...</td>\n",
              "    </tr>\n",
              "    <tr>\n",
              "      <th>10075</th>\n",
              "      <td>60</td>\n",
              "      <td>25.433333</td>\n",
              "      <td>2.866667</td>\n",
              "      <td>73.666667</td>\n",
              "      <td>0.0</td>\n",
              "      <td>1.133333</td>\n",
              "      <td>1.0</td>\n",
              "      <td>1.0</td>\n",
              "      <td>3</td>\n",
              "    </tr>\n",
              "    <tr>\n",
              "      <th>10076</th>\n",
              "      <td>60</td>\n",
              "      <td>24.466667</td>\n",
              "      <td>1.733333</td>\n",
              "      <td>78.333333</td>\n",
              "      <td>0.0</td>\n",
              "      <td>0.566667</td>\n",
              "      <td>1.0</td>\n",
              "      <td>1.0</td>\n",
              "      <td>3</td>\n",
              "    </tr>\n",
              "    <tr>\n",
              "      <th>10077</th>\n",
              "      <td>60</td>\n",
              "      <td>27.900000</td>\n",
              "      <td>4.100000</td>\n",
              "      <td>68.000000</td>\n",
              "      <td>0.0</td>\n",
              "      <td>0.000000</td>\n",
              "      <td>1.0</td>\n",
              "      <td>1.0</td>\n",
              "      <td>3</td>\n",
              "    </tr>\n",
              "    <tr>\n",
              "      <th>10078</th>\n",
              "      <td>60</td>\n",
              "      <td>27.900000</td>\n",
              "      <td>4.100000</td>\n",
              "      <td>68.000000</td>\n",
              "      <td>0.0</td>\n",
              "      <td>0.000000</td>\n",
              "      <td>1.0</td>\n",
              "      <td>1.0</td>\n",
              "      <td>3</td>\n",
              "    </tr>\n",
              "    <tr>\n",
              "      <th>10079</th>\n",
              "      <td>60</td>\n",
              "      <td>27.900000</td>\n",
              "      <td>4.100000</td>\n",
              "      <td>68.000000</td>\n",
              "      <td>0.0</td>\n",
              "      <td>0.000000</td>\n",
              "      <td>1.0</td>\n",
              "      <td>1.0</td>\n",
              "      <td>3</td>\n",
              "    </tr>\n",
              "  </tbody>\n",
              "</table>\n",
              "<p>10080 rows × 9 columns</p>\n",
              "</div>\n",
              "    <div class=\"colab-df-buttons\">\n",
              "\n",
              "  <div class=\"colab-df-container\">\n",
              "    <button class=\"colab-df-convert\" onclick=\"convertToInteractive('df-b8d7a709-9e91-497a-b8c7-f15ad02b4931')\"\n",
              "            title=\"Convert this dataframe to an interactive table.\"\n",
              "            style=\"display:none;\">\n",
              "\n",
              "  <svg xmlns=\"http://www.w3.org/2000/svg\" height=\"24px\" viewBox=\"0 -960 960 960\">\n",
              "    <path d=\"M120-120v-720h720v720H120Zm60-500h600v-160H180v160Zm220 220h160v-160H400v160Zm0 220h160v-160H400v160ZM180-400h160v-160H180v160Zm440 0h160v-160H620v160ZM180-180h160v-160H180v160Zm440 0h160v-160H620v160Z\"/>\n",
              "  </svg>\n",
              "    </button>\n",
              "\n",
              "  <style>\n",
              "    .colab-df-container {\n",
              "      display:flex;\n",
              "      gap: 12px;\n",
              "    }\n",
              "\n",
              "    .colab-df-convert {\n",
              "      background-color: #E8F0FE;\n",
              "      border: none;\n",
              "      border-radius: 50%;\n",
              "      cursor: pointer;\n",
              "      display: none;\n",
              "      fill: #1967D2;\n",
              "      height: 32px;\n",
              "      padding: 0 0 0 0;\n",
              "      width: 32px;\n",
              "    }\n",
              "\n",
              "    .colab-df-convert:hover {\n",
              "      background-color: #E2EBFA;\n",
              "      box-shadow: 0px 1px 2px rgba(60, 64, 67, 0.3), 0px 1px 3px 1px rgba(60, 64, 67, 0.15);\n",
              "      fill: #174EA6;\n",
              "    }\n",
              "\n",
              "    .colab-df-buttons div {\n",
              "      margin-bottom: 4px;\n",
              "    }\n",
              "\n",
              "    [theme=dark] .colab-df-convert {\n",
              "      background-color: #3B4455;\n",
              "      fill: #D2E3FC;\n",
              "    }\n",
              "\n",
              "    [theme=dark] .colab-df-convert:hover {\n",
              "      background-color: #434B5C;\n",
              "      box-shadow: 0px 1px 3px 1px rgba(0, 0, 0, 0.15);\n",
              "      filter: drop-shadow(0px 1px 2px rgba(0, 0, 0, 0.3));\n",
              "      fill: #FFFFFF;\n",
              "    }\n",
              "  </style>\n",
              "\n",
              "    <script>\n",
              "      const buttonEl =\n",
              "        document.querySelector('#df-b8d7a709-9e91-497a-b8c7-f15ad02b4931 button.colab-df-convert');\n",
              "      buttonEl.style.display =\n",
              "        google.colab.kernel.accessAllowed ? 'block' : 'none';\n",
              "\n",
              "      async function convertToInteractive(key) {\n",
              "        const element = document.querySelector('#df-b8d7a709-9e91-497a-b8c7-f15ad02b4931');\n",
              "        const dataTable =\n",
              "          await google.colab.kernel.invokeFunction('convertToInteractive',\n",
              "                                                    [key], {});\n",
              "        if (!dataTable) return;\n",
              "\n",
              "        const docLinkHtml = 'Like what you see? Visit the ' +\n",
              "          '<a target=\"_blank\" href=https://colab.research.google.com/notebooks/data_table.ipynb>data table notebook</a>'\n",
              "          + ' to learn more about interactive tables.';\n",
              "        element.innerHTML = '';\n",
              "        dataTable['output_type'] = 'display_data';\n",
              "        await google.colab.output.renderOutput(dataTable, element);\n",
              "        const docLink = document.createElement('div');\n",
              "        docLink.innerHTML = docLinkHtml;\n",
              "        element.appendChild(docLink);\n",
              "      }\n",
              "    </script>\n",
              "  </div>\n",
              "\n",
              "\n",
              "<div id=\"df-bf612164-37a0-4025-bac6-4f69ef204a60\">\n",
              "  <button class=\"colab-df-quickchart\" onclick=\"quickchart('df-bf612164-37a0-4025-bac6-4f69ef204a60')\"\n",
              "            title=\"Suggest charts\"\n",
              "            style=\"display:none;\">\n",
              "\n",
              "<svg xmlns=\"http://www.w3.org/2000/svg\" height=\"24px\"viewBox=\"0 0 24 24\"\n",
              "     width=\"24px\">\n",
              "    <g>\n",
              "        <path d=\"M19 3H5c-1.1 0-2 .9-2 2v14c0 1.1.9 2 2 2h14c1.1 0 2-.9 2-2V5c0-1.1-.9-2-2-2zM9 17H7v-7h2v7zm4 0h-2V7h2v10zm4 0h-2v-4h2v4z\"/>\n",
              "    </g>\n",
              "</svg>\n",
              "  </button>\n",
              "\n",
              "<style>\n",
              "  .colab-df-quickchart {\n",
              "      --bg-color: #E8F0FE;\n",
              "      --fill-color: #1967D2;\n",
              "      --hover-bg-color: #E2EBFA;\n",
              "      --hover-fill-color: #174EA6;\n",
              "      --disabled-fill-color: #AAA;\n",
              "      --disabled-bg-color: #DDD;\n",
              "  }\n",
              "\n",
              "  [theme=dark] .colab-df-quickchart {\n",
              "      --bg-color: #3B4455;\n",
              "      --fill-color: #D2E3FC;\n",
              "      --hover-bg-color: #434B5C;\n",
              "      --hover-fill-color: #FFFFFF;\n",
              "      --disabled-bg-color: #3B4455;\n",
              "      --disabled-fill-color: #666;\n",
              "  }\n",
              "\n",
              "  .colab-df-quickchart {\n",
              "    background-color: var(--bg-color);\n",
              "    border: none;\n",
              "    border-radius: 50%;\n",
              "    cursor: pointer;\n",
              "    display: none;\n",
              "    fill: var(--fill-color);\n",
              "    height: 32px;\n",
              "    padding: 0;\n",
              "    width: 32px;\n",
              "  }\n",
              "\n",
              "  .colab-df-quickchart:hover {\n",
              "    background-color: var(--hover-bg-color);\n",
              "    box-shadow: 0 1px 2px rgba(60, 64, 67, 0.3), 0 1px 3px 1px rgba(60, 64, 67, 0.15);\n",
              "    fill: var(--button-hover-fill-color);\n",
              "  }\n",
              "\n",
              "  .colab-df-quickchart-complete:disabled,\n",
              "  .colab-df-quickchart-complete:disabled:hover {\n",
              "    background-color: var(--disabled-bg-color);\n",
              "    fill: var(--disabled-fill-color);\n",
              "    box-shadow: none;\n",
              "  }\n",
              "\n",
              "  .colab-df-spinner {\n",
              "    border: 2px solid var(--fill-color);\n",
              "    border-color: transparent;\n",
              "    border-bottom-color: var(--fill-color);\n",
              "    animation:\n",
              "      spin 1s steps(1) infinite;\n",
              "  }\n",
              "\n",
              "  @keyframes spin {\n",
              "    0% {\n",
              "      border-color: transparent;\n",
              "      border-bottom-color: var(--fill-color);\n",
              "      border-left-color: var(--fill-color);\n",
              "    }\n",
              "    20% {\n",
              "      border-color: transparent;\n",
              "      border-left-color: var(--fill-color);\n",
              "      border-top-color: var(--fill-color);\n",
              "    }\n",
              "    30% {\n",
              "      border-color: transparent;\n",
              "      border-left-color: var(--fill-color);\n",
              "      border-top-color: var(--fill-color);\n",
              "      border-right-color: var(--fill-color);\n",
              "    }\n",
              "    40% {\n",
              "      border-color: transparent;\n",
              "      border-right-color: var(--fill-color);\n",
              "      border-top-color: var(--fill-color);\n",
              "    }\n",
              "    60% {\n",
              "      border-color: transparent;\n",
              "      border-right-color: var(--fill-color);\n",
              "    }\n",
              "    80% {\n",
              "      border-color: transparent;\n",
              "      border-right-color: var(--fill-color);\n",
              "      border-bottom-color: var(--fill-color);\n",
              "    }\n",
              "    90% {\n",
              "      border-color: transparent;\n",
              "      border-bottom-color: var(--fill-color);\n",
              "    }\n",
              "  }\n",
              "</style>\n",
              "\n",
              "  <script>\n",
              "    async function quickchart(key) {\n",
              "      const quickchartButtonEl =\n",
              "        document.querySelector('#' + key + ' button');\n",
              "      quickchartButtonEl.disabled = true;  // To prevent multiple clicks.\n",
              "      quickchartButtonEl.classList.add('colab-df-spinner');\n",
              "      try {\n",
              "        const charts = await google.colab.kernel.invokeFunction(\n",
              "            'suggestCharts', [key], {});\n",
              "      } catch (error) {\n",
              "        console.error('Error during call to suggestCharts:', error);\n",
              "      }\n",
              "      quickchartButtonEl.classList.remove('colab-df-spinner');\n",
              "      quickchartButtonEl.classList.add('colab-df-quickchart-complete');\n",
              "    }\n",
              "    (() => {\n",
              "      let quickchartButtonEl =\n",
              "        document.querySelector('#df-bf612164-37a0-4025-bac6-4f69ef204a60 button');\n",
              "      quickchartButtonEl.style.display =\n",
              "        google.colab.kernel.accessAllowed ? 'block' : 'none';\n",
              "    })();\n",
              "  </script>\n",
              "</div>\n",
              "\n",
              "  <div id=\"id_a9abc9bf-2f46-4fa6-a248-8ba52a1860c7\">\n",
              "    <style>\n",
              "      .colab-df-generate {\n",
              "        background-color: #E8F0FE;\n",
              "        border: none;\n",
              "        border-radius: 50%;\n",
              "        cursor: pointer;\n",
              "        display: none;\n",
              "        fill: #1967D2;\n",
              "        height: 32px;\n",
              "        padding: 0 0 0 0;\n",
              "        width: 32px;\n",
              "      }\n",
              "\n",
              "      .colab-df-generate:hover {\n",
              "        background-color: #E2EBFA;\n",
              "        box-shadow: 0px 1px 2px rgba(60, 64, 67, 0.3), 0px 1px 3px 1px rgba(60, 64, 67, 0.15);\n",
              "        fill: #174EA6;\n",
              "      }\n",
              "\n",
              "      [theme=dark] .colab-df-generate {\n",
              "        background-color: #3B4455;\n",
              "        fill: #D2E3FC;\n",
              "      }\n",
              "\n",
              "      [theme=dark] .colab-df-generate:hover {\n",
              "        background-color: #434B5C;\n",
              "        box-shadow: 0px 1px 3px 1px rgba(0, 0, 0, 0.15);\n",
              "        filter: drop-shadow(0px 1px 2px rgba(0, 0, 0, 0.3));\n",
              "        fill: #FFFFFF;\n",
              "      }\n",
              "    </style>\n",
              "    <button class=\"colab-df-generate\" onclick=\"generateWithVariable('df_test')\"\n",
              "            title=\"Generate code using this dataframe.\"\n",
              "            style=\"display:none;\">\n",
              "\n",
              "  <svg xmlns=\"http://www.w3.org/2000/svg\" height=\"24px\"viewBox=\"0 0 24 24\"\n",
              "       width=\"24px\">\n",
              "    <path d=\"M7,19H8.4L18.45,9,17,7.55,7,17.6ZM5,21V16.75L18.45,3.32a2,2,0,0,1,2.83,0l1.4,1.43a1.91,1.91,0,0,1,.58,1.4,1.91,1.91,0,0,1-.58,1.4L9.25,21ZM18.45,9,17,7.55Zm-12,3A5.31,5.31,0,0,0,4.9,8.1,5.31,5.31,0,0,0,1,6.5,5.31,5.31,0,0,0,4.9,4.9,5.31,5.31,0,0,0,6.5,1,5.31,5.31,0,0,0,8.1,4.9,5.31,5.31,0,0,0,12,6.5,5.46,5.46,0,0,0,6.5,12Z\"/>\n",
              "  </svg>\n",
              "    </button>\n",
              "    <script>\n",
              "      (() => {\n",
              "      const buttonEl =\n",
              "        document.querySelector('#id_a9abc9bf-2f46-4fa6-a248-8ba52a1860c7 button.colab-df-generate');\n",
              "      buttonEl.style.display =\n",
              "        google.colab.kernel.accessAllowed ? 'block' : 'none';\n",
              "\n",
              "      buttonEl.onclick = () => {\n",
              "        google.colab.notebook.generateWithVariable('df_test');\n",
              "      }\n",
              "      })();\n",
              "    </script>\n",
              "  </div>\n",
              "\n",
              "    </div>\n",
              "  </div>\n"
            ],
            "application/vnd.google.colaboratory.intrinsic+json": {
              "type": "dataframe",
              "variable_name": "df_test",
              "summary": "{\n  \"name\": \"df_test\",\n  \"rows\": 10080,\n  \"fields\": [\n    {\n      \"column\": \"num\",\n      \"properties\": {\n        \"dtype\": \"number\",\n        \"std\": 17,\n        \"min\": 1,\n        \"max\": 60,\n        \"num_unique_values\": 60,\n        \"samples\": [\n          1,\n          6,\n          37\n        ],\n        \"semantic_type\": \"\",\n        \"description\": \"\"\n      }\n    },\n    {\n      \"column\": \"\\uae30\\uc628(\\u00b0C)\",\n      \"properties\": {\n        \"dtype\": \"number\",\n        \"std\": 2.1929255739052502,\n        \"min\": 22.1,\n        \"max\": 35.4,\n        \"num_unique_values\": 189,\n        \"samples\": [\n          23.3,\n          30.1,\n          31.6\n        ],\n        \"semantic_type\": \"\",\n        \"description\": \"\"\n      }\n    },\n    {\n      \"column\": \"\\ud48d\\uc18d(m/s)\",\n      \"properties\": {\n        \"dtype\": \"number\",\n        \"std\": 1.5399264375652941,\n        \"min\": 0.0,\n        \"max\": 22.5,\n        \"num_unique_values\": 165,\n        \"samples\": [\n          5.6,\n          4.4,\n          8.3\n        ],\n        \"semantic_type\": \"\",\n        \"description\": \"\"\n      }\n    },\n    {\n      \"column\": \"\\uc2b5\\ub3c4(%)\",\n      \"properties\": {\n        \"dtype\": \"number\",\n        \"std\": 11.077994432113801,\n        \"min\": 44.0,\n        \"max\": 100.0,\n        \"num_unique_values\": 107,\n        \"samples\": [\n          72.33333333333333,\n          74.33333333333333,\n          93.33333333333333\n        ],\n        \"semantic_type\": \"\",\n        \"description\": \"\"\n      }\n    },\n    {\n      \"column\": \"\\uac15\\uc218\\ub7c9(mm, 6\\uc2dc\\uac04)\",\n      \"properties\": {\n        \"dtype\": \"number\",\n        \"std\": 6.5445164054328435,\n        \"min\": 0.0,\n        \"max\": 83.5,\n        \"num_unique_values\": 180,\n        \"samples\": [\n          13.249999999999998,\n          7.666666666666667,\n          24.1\n        ],\n        \"semantic_type\": \"\",\n        \"description\": \"\"\n      }\n    },\n    {\n      \"column\": \"\\uc77c\\uc870(hr, 3\\uc2dc\\uac04)\",\n      \"properties\": {\n        \"dtype\": \"number\",\n        \"std\": 0.8318286490199076,\n        \"min\": 0.0,\n        \"max\": 3.0,\n        \"num_unique_values\": 73,\n        \"samples\": [\n          2.066666666666667,\n          2.2,\n          1.5666666666666667\n        ],\n        \"semantic_type\": \"\",\n        \"description\": \"\"\n      }\n    },\n    {\n      \"column\": \"\\ube44\\uc804\\uae30\\ub0c9\\ubc29\\uc124\\ube44\\uc6b4\\uc601\",\n      \"properties\": {\n        \"dtype\": \"number\",\n        \"std\": 0.4651992671645705,\n        \"min\": 0.0,\n        \"max\": 1.0,\n        \"num_unique_values\": 2,\n        \"samples\": [\n          1.0,\n          0.0\n        ],\n        \"semantic_type\": \"\",\n        \"description\": \"\"\n      }\n    },\n    {\n      \"column\": \"\\ud0dc\\uc591\\uad11\\ubcf4\\uc720\",\n      \"properties\": {\n        \"dtype\": \"number\",\n        \"std\": 0.0,\n        \"min\": 1.0,\n        \"max\": 1.0,\n        \"num_unique_values\": 1,\n        \"samples\": [\n          1.0\n        ],\n        \"semantic_type\": \"\",\n        \"description\": \"\"\n      }\n    },\n    {\n      \"column\": \"time\",\n      \"properties\": {\n        \"dtype\": \"category\",\n        \"num_unique_values\": 4,\n        \"samples\": [\n          1\n        ],\n        \"semantic_type\": \"\",\n        \"description\": \"\"\n      }\n    }\n  ]\n}"
            }
          },
          "metadata": {},
          "execution_count": 4
        }
      ]
    },
    {
      "cell_type": "code",
      "source": [
        "\n",
        "X = df_train.drop(columns=['전력사용량(kWh)']).values\n",
        "y = df_train['전력사용량(kWh)'].values\n",
        "\n",
        "\n",
        "\n",
        "# 데이터를 훈련/테스트 세트로 분리\n",
        "X_train, X_valid, y_train, y_valid = train_test_split(X, y, test_size=0.2, random_state=42)\n",
        "\n",
        "# 데이터 정규화\n",
        "scaler = StandardScaler()\n",
        "X_train[:, 1:-1] = scaler.fit_transform(X_train[:, 1:-1])  # num과 time을 제외한 나머지 전부 스캐일링\n",
        "X_valid[:, 1:-1] = scaler.transform(X_valid[:, 1:-1])\n",
        "\n",
        "# 데이터를 텐서로 변환\n",
        "X_train = torch.tensor(X_train, dtype=torch.float32)\n",
        "y_train = torch.tensor(y_train, dtype=torch.float32).view(-1, 1)\n",
        "X_valid = torch.tensor(X_valid, dtype=torch.float32)\n",
        "y_valid = torch.tensor(y_valid, dtype=torch.float32).view(-1, 1)\n",
        "\n",
        "# 데이터셋과 데이터로더 준비\n",
        "train_dataset = TensorDataset(X_train, y_train)\n",
        "train_loader = DataLoader(train_dataset, batch_size=64, shuffle=True)\n",
        "\n",
        "class DNNRegression(nn.Module):\n",
        "    def __init__(self):\n",
        "        super(DNNRegression, self).__init__()\n",
        "        self.layer1 = nn.Linear(X_train.shape[1], 16)\n",
        "        self.bn1 = nn.BatchNorm1d(16)\n",
        "        #self.dropout1 = nn.Dropout(0.5)\n",
        "\n",
        "        self.layer2 = nn.Linear(16, 32)\n",
        "        self.bn2 = nn.BatchNorm1d(32)\n",
        "        #self.dropout2 = nn.Dropout(0.5)\n",
        "\n",
        "        self.layer3 = nn.Linear(32, 64)\n",
        "        self.bn3 = nn.BatchNorm1d(64)\n",
        "        #self.dropout3 = nn.Dropout(0.5)\n",
        "\n",
        "        self.layer4 = nn.Linear(64, 32)\n",
        "        self.bn4 = nn.BatchNorm1d(32)\n",
        "        #self.dropout4 = nn.Dropout(0.5)\n",
        "\n",
        "        self.layer5 = nn.Linear(32, 16)\n",
        "        self.bn5 = nn.BatchNorm1d(16)\n",
        "        #self.dropout5 = nn.Dropout(0.5)\n",
        "\n",
        "        self.layer6 = nn.Linear(16, 8)\n",
        "        self.bn6 = nn.BatchNorm1d(8)\n",
        "        #self.dropout5 = nn.Dropout(0.5)\n",
        "\n",
        "        self.output_layer = nn.Linear(8, 1)\n",
        "\n",
        "        # 가중치 초기화\n",
        "        self._initialize_weights()\n",
        "\n",
        "    def forward(self, x):\n",
        "        #x = torch.relu(self.layer1(x))\n",
        "        x = torch.relu(self.bn1(self.layer1(x)))\n",
        "        #x = self.dropout1(x)\n",
        "        #x = torch.relu(self.layer2(x))\n",
        "        x = torch.relu(self.bn2(self.layer2(x)))\n",
        "        #x = self.dropout2(x)\n",
        "        #x = torch.relu(self.layer3(x))\n",
        "        x = torch.relu(self.bn3(self.layer3(x)))\n",
        "        #x = self.dropout3(x)\n",
        "        #x = torch.relu(self.layer4(x))\n",
        "        x = torch.relu(self.bn4(self.layer4(x)))\n",
        "        #x = self.dropout4(x)\n",
        "        #x = torch.relu(self.layer5(x))\n",
        "        x = torch.relu(self.bn5(self.layer5(x)))\n",
        "        #x = self.dropout5(x)\n",
        "        #x = torch.relu(self.layer6(x))\n",
        "        x = torch.relu(self.bn6(self.layer6(x)))\n",
        "        #x = self.dropout6(x)\n",
        "        x = self.output_layer(x)\n",
        "        return x\n",
        "\n",
        "    def _initialize_weights(self):\n",
        "        for m in self.modules():\n",
        "            if isinstance(m, nn.Linear):\n",
        "                nn.init.xavier_uniform_(m.weight)\n",
        "                if m.bias is not None:\n",
        "                    nn.init.zeros_(m.bias)\n",
        "\n",
        "# 모델, 손실 함수, 옵티마이저 설정\n",
        "device = torch.device(\"cuda\" if torch.cuda.is_available() else \"cpu\")  # GPU가 사용 가능한지 확인\n",
        "model = DNNRegression().to(device)  # 모델을 GPU로 이동\n",
        "criterion = nn.MSELoss()\n",
        "optimizer = optim.SGD(model.parameters(), lr=0.000001 ) #, weight_decay=0.1\n",
        "scheduler = optim.lr_scheduler.StepLR(optimizer, step_size=10 , gamma=0.1)\n",
        "num_epochs = 1000\n",
        "\n",
        "# 배치사이즈 조절\n",
        "train_dataset = TensorDataset(X_train, y_train)\n",
        "train_loader = DataLoader(train_dataset, batch_size=512, shuffle=True)\n",
        "\n",
        "\n",
        "\n",
        "# Early Stopping 설정\n",
        "early_stopping_patience = 20  # 평가 loss 개선이 없을 경우, 모델한테 줄 기회 횟수.\n",
        "early_stopping_counter = 0\n",
        "best_loss = float('inf')\n",
        "\n",
        "\n",
        "\n",
        "# 학습 시간 측정 시작\n",
        "start_time = time.time()\n",
        "\n",
        "for epoch in tqdm(range(num_epochs)):\n",
        "    model.train()\n",
        "    epoch_loss = 0\n",
        "    for batch_X, batch_y in train_loader:\n",
        "        batch_X, batch_y = batch_X.to(device), batch_y.to(device)  # 데이터를 GPU로 이동\n",
        "\n",
        "        # 예측값 계산\n",
        "        predictions = model(batch_X)\n",
        "\n",
        "        # 손실 계산\n",
        "        loss = criterion(predictions, batch_y)\n",
        "\n",
        "        # 옵티마이저 초기화\n",
        "        optimizer.zero_grad()\n",
        "\n",
        "        # 역전파 및 가중치 갱신\n",
        "        loss.backward()\n",
        "        optimizer.step()\n",
        "\n",
        "        epoch_loss += loss.item()\n",
        "\n",
        "    scheduler.step()\n",
        "\n",
        "    model.eval()\n",
        "    with torch.no_grad():\n",
        "        X_valid, y_valid = X_valid.to(device), y_valid.to(device)\n",
        "        val_predictions = model(X_valid)\n",
        "        val_loss = criterion(val_predictions, y_valid)\n",
        "\n",
        "\n",
        "    if (epoch+1) % 1 == 0:\n",
        "        print(f'Epoch [{epoch+1}/{num_epochs}], Loss: {val_loss.item():.4f}')\n",
        "\n",
        "    # validation loss가 현재까지 갱신된 최저 loss보다 적다면 best loss를 갱신\n",
        "    if val_loss.item() < best_loss:\n",
        "        best_loss = val_loss.item()\n",
        "        early_stopping_counter = 0\n",
        "        torch.save(model.state_dict(), \"best_model.pth\")\n",
        "\n",
        "    else:\n",
        "        early_stopping_counter += 1\n",
        "        # Early Stopping\n",
        "        if early_stopping_counter >= early_stopping_patience:\n",
        "            print(f\"조기종료 epoch: {epoch+1}\")\n",
        "            break\n",
        "\n",
        "# 학습 시간 측정 종료\n",
        "end_time = time.time()\n",
        "elapsed_time = end_time - start_time\n",
        "\n",
        "\n",
        "# 모델 불러오기 및 평가\n",
        "model.load_state_dict(torch.load(\"best_model.pth\"))\n",
        "\n",
        "model.eval()\n",
        "with torch.no_grad():\n",
        "    X_valid, y_valid = X_valid.to(device), y_valid.to(device)  # 검증 데이터도 GPU로 이동\n",
        "    predictions = model(X_valid)\n",
        "    loss = criterion(predictions, y_valid)\n",
        "    # **r^2 스코어 계산**\n",
        "    r2 = r2_score(y_valid.cpu().numpy(), predictions.cpu().numpy())\n",
        "\n",
        "\n",
        "    print(f'평가 손실 Loss: {loss.item():.4f}')\n",
        "    print(f\"r^2 스코어: {r2:.4f}\")\n",
        "    print(f\"예측 값: {predictions[:5].view(-1).tolist()}\")\n",
        "    print(f\"실제 값: {y_valid[:5].view(-1).tolist()}\")\n",
        "\n"
      ],
      "metadata": {
        "colab": {
          "base_uri": "https://localhost:8080/"
        },
        "id": "_k3x0wGiiPSq",
        "outputId": "1013e12b-c976-4b18-c98d-9aec885906f2"
      },
      "execution_count": 32,
      "outputs": [
        {
          "output_type": "stream",
          "name": "stderr",
          "text": [
            "  0%|          | 1/1000 [00:01<32:36,  1.96s/it]"
          ]
        },
        {
          "output_type": "stream",
          "name": "stdout",
          "text": [
            "Epoch [1/1000], Loss: 9608718.0000\n"
          ]
        },
        {
          "output_type": "stream",
          "name": "stderr",
          "text": [
            "\r  0%|          | 2/1000 [00:03<31:57,  1.92s/it]"
          ]
        },
        {
          "output_type": "stream",
          "name": "stdout",
          "text": [
            "Epoch [2/1000], Loss: 9473921.0000\n"
          ]
        },
        {
          "output_type": "stream",
          "name": "stderr",
          "text": [
            "\r  0%|          | 3/1000 [00:05<27:21,  1.65s/it]"
          ]
        },
        {
          "output_type": "stream",
          "name": "stdout",
          "text": [
            "Epoch [3/1000], Loss: 8928192.0000\n"
          ]
        },
        {
          "output_type": "stream",
          "name": "stderr",
          "text": [
            "\r  0%|          | 4/1000 [00:06<25:02,  1.51s/it]"
          ]
        },
        {
          "output_type": "stream",
          "name": "stdout",
          "text": [
            "Epoch [4/1000], Loss: 6683992.0000\n"
          ]
        },
        {
          "output_type": "stream",
          "name": "stderr",
          "text": [
            "\r  0%|          | 5/1000 [00:07<22:59,  1.39s/it]"
          ]
        },
        {
          "output_type": "stream",
          "name": "stdout",
          "text": [
            "Epoch [5/1000], Loss: 30704394.0000\n"
          ]
        },
        {
          "output_type": "stream",
          "name": "stderr",
          "text": [
            "\r  1%|          | 6/1000 [00:08<21:53,  1.32s/it]"
          ]
        },
        {
          "output_type": "stream",
          "name": "stdout",
          "text": [
            "Epoch [6/1000], Loss: 2774044.5000\n"
          ]
        },
        {
          "output_type": "stream",
          "name": "stderr",
          "text": [
            "\r  1%|          | 7/1000 [00:10<21:44,  1.31s/it]"
          ]
        },
        {
          "output_type": "stream",
          "name": "stdout",
          "text": [
            "Epoch [7/1000], Loss: 10388013.0000\n"
          ]
        },
        {
          "output_type": "stream",
          "name": "stderr",
          "text": [
            "\r  1%|          | 8/1000 [00:11<20:54,  1.26s/it]"
          ]
        },
        {
          "output_type": "stream",
          "name": "stdout",
          "text": [
            "Epoch [8/1000], Loss: 4234070.0000\n"
          ]
        },
        {
          "output_type": "stream",
          "name": "stderr",
          "text": [
            "\r  1%|          | 9/1000 [00:12<20:33,  1.24s/it]"
          ]
        },
        {
          "output_type": "stream",
          "name": "stdout",
          "text": [
            "Epoch [9/1000], Loss: 3159034.5000\n"
          ]
        },
        {
          "output_type": "stream",
          "name": "stderr",
          "text": [
            "\r  1%|          | 10/1000 [00:13<21:12,  1.29s/it]"
          ]
        },
        {
          "output_type": "stream",
          "name": "stdout",
          "text": [
            "Epoch [10/1000], Loss: 2985539.7500\n"
          ]
        },
        {
          "output_type": "stream",
          "name": "stderr",
          "text": [
            "\r  1%|          | 11/1000 [00:15<25:03,  1.52s/it]"
          ]
        },
        {
          "output_type": "stream",
          "name": "stdout",
          "text": [
            "Epoch [11/1000], Loss: 1048360.3750\n"
          ]
        },
        {
          "output_type": "stream",
          "name": "stderr",
          "text": [
            "\r  1%|          | 12/1000 [00:17<26:45,  1.63s/it]"
          ]
        },
        {
          "output_type": "stream",
          "name": "stdout",
          "text": [
            "Epoch [12/1000], Loss: 1041648.5000\n"
          ]
        },
        {
          "output_type": "stream",
          "name": "stderr",
          "text": [
            "\r  1%|▏         | 13/1000 [00:18<24:32,  1.49s/it]"
          ]
        },
        {
          "output_type": "stream",
          "name": "stdout",
          "text": [
            "Epoch [13/1000], Loss: 957994.8750\n"
          ]
        },
        {
          "output_type": "stream",
          "name": "stderr",
          "text": [
            "\r  1%|▏         | 14/1000 [00:20<23:02,  1.40s/it]"
          ]
        },
        {
          "output_type": "stream",
          "name": "stdout",
          "text": [
            "Epoch [14/1000], Loss: 953470.7500\n"
          ]
        },
        {
          "output_type": "stream",
          "name": "stderr",
          "text": [
            "\r  2%|▏         | 15/1000 [00:21<21:52,  1.33s/it]"
          ]
        },
        {
          "output_type": "stream",
          "name": "stdout",
          "text": [
            "Epoch [15/1000], Loss: 983402.3750\n"
          ]
        },
        {
          "output_type": "stream",
          "name": "stderr",
          "text": [
            "\r  2%|▏         | 16/1000 [00:22<21:49,  1.33s/it]"
          ]
        },
        {
          "output_type": "stream",
          "name": "stdout",
          "text": [
            "Epoch [16/1000], Loss: 1038108.5000\n"
          ]
        },
        {
          "output_type": "stream",
          "name": "stderr",
          "text": [
            "\r  2%|▏         | 17/1000 [00:23<21:23,  1.31s/it]"
          ]
        },
        {
          "output_type": "stream",
          "name": "stdout",
          "text": [
            "Epoch [17/1000], Loss: 886475.0000\n"
          ]
        },
        {
          "output_type": "stream",
          "name": "stderr",
          "text": [
            "\r  2%|▏         | 18/1000 [00:25<22:09,  1.35s/it]"
          ]
        },
        {
          "output_type": "stream",
          "name": "stdout",
          "text": [
            "Epoch [18/1000], Loss: 872433.6250\n"
          ]
        },
        {
          "output_type": "stream",
          "name": "stderr",
          "text": [
            "\r  2%|▏         | 19/1000 [00:26<21:22,  1.31s/it]"
          ]
        },
        {
          "output_type": "stream",
          "name": "stdout",
          "text": [
            "Epoch [19/1000], Loss: 1036939.0625\n"
          ]
        },
        {
          "output_type": "stream",
          "name": "stderr",
          "text": [
            "\r  2%|▏         | 20/1000 [00:28<22:38,  1.39s/it]"
          ]
        },
        {
          "output_type": "stream",
          "name": "stdout",
          "text": [
            "Epoch [20/1000], Loss: 833483.0000\n"
          ]
        },
        {
          "output_type": "stream",
          "name": "stderr",
          "text": [
            "\r  2%|▏         | 21/1000 [00:30<25:11,  1.54s/it]"
          ]
        },
        {
          "output_type": "stream",
          "name": "stdout",
          "text": [
            "Epoch [21/1000], Loss: 838311.6250\n"
          ]
        },
        {
          "output_type": "stream",
          "name": "stderr",
          "text": [
            "\r  2%|▏         | 22/1000 [00:31<23:38,  1.45s/it]"
          ]
        },
        {
          "output_type": "stream",
          "name": "stdout",
          "text": [
            "Epoch [22/1000], Loss: 807291.9375\n"
          ]
        },
        {
          "output_type": "stream",
          "name": "stderr",
          "text": [
            "\r  2%|▏         | 23/1000 [00:32<22:19,  1.37s/it]"
          ]
        },
        {
          "output_type": "stream",
          "name": "stdout",
          "text": [
            "Epoch [23/1000], Loss: 801157.3125\n"
          ]
        },
        {
          "output_type": "stream",
          "name": "stderr",
          "text": [
            "\r  2%|▏         | 24/1000 [00:33<21:58,  1.35s/it]"
          ]
        },
        {
          "output_type": "stream",
          "name": "stdout",
          "text": [
            "Epoch [24/1000], Loss: 832000.0000\n"
          ]
        },
        {
          "output_type": "stream",
          "name": "stderr",
          "text": [
            "\r  2%|▎         | 25/1000 [00:34<21:04,  1.30s/it]"
          ]
        },
        {
          "output_type": "stream",
          "name": "stdout",
          "text": [
            "Epoch [25/1000], Loss: 841405.7500\n"
          ]
        },
        {
          "output_type": "stream",
          "name": "stderr",
          "text": [
            "\r  3%|▎         | 26/1000 [00:36<20:25,  1.26s/it]"
          ]
        },
        {
          "output_type": "stream",
          "name": "stdout",
          "text": [
            "Epoch [26/1000], Loss: 819644.0625\n"
          ]
        },
        {
          "output_type": "stream",
          "name": "stderr",
          "text": [
            "\r  3%|▎         | 27/1000 [00:37<20:44,  1.28s/it]"
          ]
        },
        {
          "output_type": "stream",
          "name": "stdout",
          "text": [
            "Epoch [27/1000], Loss: 840794.3125\n"
          ]
        },
        {
          "output_type": "stream",
          "name": "stderr",
          "text": [
            "\r  3%|▎         | 28/1000 [00:38<20:16,  1.25s/it]"
          ]
        },
        {
          "output_type": "stream",
          "name": "stdout",
          "text": [
            "Epoch [28/1000], Loss: 853061.9375\n"
          ]
        },
        {
          "output_type": "stream",
          "name": "stderr",
          "text": [
            "\r  3%|▎         | 29/1000 [00:39<19:58,  1.23s/it]"
          ]
        },
        {
          "output_type": "stream",
          "name": "stdout",
          "text": [
            "Epoch [29/1000], Loss: 810264.4375\n"
          ]
        },
        {
          "output_type": "stream",
          "name": "stderr",
          "text": [
            "\r  3%|▎         | 30/1000 [00:41<22:11,  1.37s/it]"
          ]
        },
        {
          "output_type": "stream",
          "name": "stdout",
          "text": [
            "Epoch [30/1000], Loss: 815937.9375\n"
          ]
        },
        {
          "output_type": "stream",
          "name": "stderr",
          "text": [
            "\r  3%|▎         | 31/1000 [00:43<23:19,  1.44s/it]"
          ]
        },
        {
          "output_type": "stream",
          "name": "stdout",
          "text": [
            "Epoch [31/1000], Loss: 851093.6875\n"
          ]
        },
        {
          "output_type": "stream",
          "name": "stderr",
          "text": [
            "\r  3%|▎         | 32/1000 [00:44<21:55,  1.36s/it]"
          ]
        },
        {
          "output_type": "stream",
          "name": "stdout",
          "text": [
            "Epoch [32/1000], Loss: 805218.4375\n"
          ]
        },
        {
          "output_type": "stream",
          "name": "stderr",
          "text": [
            "\r  3%|▎         | 33/1000 [00:45<20:58,  1.30s/it]"
          ]
        },
        {
          "output_type": "stream",
          "name": "stdout",
          "text": [
            "Epoch [33/1000], Loss: 883278.6875\n"
          ]
        },
        {
          "output_type": "stream",
          "name": "stderr",
          "text": [
            "\r  3%|▎         | 34/1000 [00:46<20:55,  1.30s/it]"
          ]
        },
        {
          "output_type": "stream",
          "name": "stdout",
          "text": [
            "Epoch [34/1000], Loss: 867130.5000\n"
          ]
        },
        {
          "output_type": "stream",
          "name": "stderr",
          "text": [
            "\r  4%|▎         | 35/1000 [00:47<20:17,  1.26s/it]"
          ]
        },
        {
          "output_type": "stream",
          "name": "stdout",
          "text": [
            "Epoch [35/1000], Loss: 808359.6875\n"
          ]
        },
        {
          "output_type": "stream",
          "name": "stderr",
          "text": [
            "\r  4%|▎         | 36/1000 [00:49<20:20,  1.27s/it]"
          ]
        },
        {
          "output_type": "stream",
          "name": "stdout",
          "text": [
            "Epoch [36/1000], Loss: 808784.8125\n"
          ]
        },
        {
          "output_type": "stream",
          "name": "stderr",
          "text": [
            "\r  4%|▎         | 37/1000 [00:50<19:54,  1.24s/it]"
          ]
        },
        {
          "output_type": "stream",
          "name": "stdout",
          "text": [
            "Epoch [37/1000], Loss: 850998.5625\n"
          ]
        },
        {
          "output_type": "stream",
          "name": "stderr",
          "text": [
            "\r  4%|▍         | 38/1000 [00:51<20:08,  1.26s/it]"
          ]
        },
        {
          "output_type": "stream",
          "name": "stdout",
          "text": [
            "Epoch [38/1000], Loss: 805157.3125\n"
          ]
        },
        {
          "output_type": "stream",
          "name": "stderr",
          "text": [
            "\r  4%|▍         | 39/1000 [00:53<20:56,  1.31s/it]"
          ]
        },
        {
          "output_type": "stream",
          "name": "stdout",
          "text": [
            "Epoch [39/1000], Loss: 812846.6250\n"
          ]
        },
        {
          "output_type": "stream",
          "name": "stderr",
          "text": [
            "\r  4%|▍         | 40/1000 [00:54<23:16,  1.45s/it]"
          ]
        },
        {
          "output_type": "stream",
          "name": "stdout",
          "text": [
            "Epoch [40/1000], Loss: 813994.0000\n"
          ]
        },
        {
          "output_type": "stream",
          "name": "stderr",
          "text": [
            "\r  4%|▍         | 41/1000 [00:56<23:14,  1.45s/it]"
          ]
        },
        {
          "output_type": "stream",
          "name": "stdout",
          "text": [
            "Epoch [41/1000], Loss: 804529.8125\n"
          ]
        },
        {
          "output_type": "stream",
          "name": "stderr",
          "text": [
            "\r  4%|▍         | 42/1000 [00:57<23:46,  1.49s/it]"
          ]
        },
        {
          "output_type": "stream",
          "name": "stdout",
          "text": [
            "Epoch [42/1000], Loss: 814197.8125\n"
          ]
        },
        {
          "output_type": "stream",
          "name": "stderr",
          "text": [
            "\r  4%|▍         | 42/1000 [00:59<22:40,  1.42s/it]"
          ]
        },
        {
          "output_type": "stream",
          "name": "stdout",
          "text": [
            "Epoch [43/1000], Loss: 805677.6875\n",
            "조기종료 epoch: 43\n",
            "평가 손실 Loss: 801157.3125\n",
            "r^2 스코어: 0.8122\n",
            "예측 값: [1747.6905517578125, 1614.135009765625, 2464.04150390625, 6809.4091796875, 1351.9642333984375]\n",
            "실제 값: [3515.615966796875, 1801.115966796875, 2101.248046875, 8693.568359375, 1560.06005859375]\n"
          ]
        },
        {
          "output_type": "stream",
          "name": "stderr",
          "text": [
            "\n",
            "<ipython-input-32-947297a6f0e1>:161: FutureWarning: You are using `torch.load` with `weights_only=False` (the current default value), which uses the default pickle module implicitly. It is possible to construct malicious pickle data which will execute arbitrary code during unpickling (See https://github.com/pytorch/pytorch/blob/main/SECURITY.md#untrusted-models for more details). In a future release, the default value for `weights_only` will be flipped to `True`. This limits the functions that could be executed during unpickling. Arbitrary objects will no longer be allowed to be loaded via this mode unless they are explicitly allowlisted by the user via `torch.serialization.add_safe_globals`. We recommend you start setting `weights_only=True` for any use case where you don't have full control of the loaded file. Please open an issue on GitHub for any issues related to this experimental feature.\n",
            "  model.load_state_dict(torch.load(\"best_model.pth\"))\n"
          ]
        }
      ]
    },
    {
      "cell_type": "code",
      "source": [
        "# date_time에서 시간대별 파생변수 time 생성\n",
        "# 정규화로 스케일링\n",
        "# 데이터가 많기 때문에 gpu학습\n",
        "# kfold를 하면 학습이 느려질것 같아서  제외\n",
        "# 활성화 함수는 성능 좋은 렐루사용\n",
        "# 학습속도가 빠른 GDB사용\n",
        "### 학습률 디케이는 10마다 10퍼감소(거의 안하고 싶어서)\n",
        "### 배치 사이즈 512 사용 (빨라짐)\n",
        "# learning rate는 0.000001 사용\n",
        "# 히든레이어는 6층\n",
        "# 노드수는 16,32,64,32,16,8 ( 너무 많은 노드와 레이어를 하니 계산이 너무 오래걸림)\n",
        "### 얼리스탑 50를 주어 모델 개선이 이루어지지않으면 멈춤\n",
        "# 자비에 초기화를 써 빠른 학습유도\n",
        "# 배치정규화로 분포 치우치는 것을 막아 과적합 방지\n",
        "# 규제는 걸지않음\n",
        "# epoch는 1000으로 크게 둠 (얼리스탑을 걸어두었기 때문에)\n",
        "# 노드 수가 많지 않다고 판단해 드롭아웃은 제외\n"
      ],
      "metadata": {
        "id": "aqrAVGk5iPTL"
      },
      "execution_count": 33,
      "outputs": []
    },
    {
      "cell_type": "code",
      "source": [
        "import matplotlib.pyplot as plt\n",
        "model.load_state_dict(torch.load(\"best_model.pth\"))\n",
        "# 모델 평가 코드\n",
        "model.eval()\n",
        "with torch.no_grad():\n",
        "    X_valid, y_valid = X_valid.to(device), y_valid.to(device)  # 검증 데이터도 GPU로 이동\n",
        "    predictions = model(X_valid)\n",
        "    loss = criterion(predictions, y_valid)\n",
        "    print(f'평가 손실 Loss: {loss.item():.4f}')\n",
        "    print(f\"예측 값: {predictions[:5].view(-1).tolist()}\")\n",
        "    print(f\"실제 값: {y_valid[:5].view(-1).tolist()}\")\n",
        "\n",
        "    # 예측 값과 실제 값 선형 그래프 그리기\n",
        "    predictions_np = predictions.cpu().numpy()  # GPU에서 계산된 예측값을 CPU로 이동 후 numpy 배열로 변환\n",
        "    y_valid_np = y_valid.cpu().numpy()  # 실제 값도 GPU에서 CPU로 이동 후 numpy 배열로 변환\n",
        "\n",
        "    # 선형 그래프 그리기\n",
        "    plt.figure(figsize=(10, 6))\n",
        "    plt.plot(y_valid_np[:100], label='Actual', color='blue')  # 실제 값\n",
        "    plt.plot(predictions_np[:100], label='Predicted', color='red', linestyle='dashed')  # 예측 값\n",
        "    plt.xlabel('Data Point Index')\n",
        "    plt.ylabel('Values')\n",
        "    plt.title('Actual vs Predicted Values')\n",
        "    plt.legend()\n",
        "    plt.show()"
      ],
      "metadata": {
        "colab": {
          "base_uri": "https://localhost:8080/",
          "height": 675
        },
        "id": "aiWJIjYSiPTs",
        "outputId": "3d362868-a644-4617-9643-fd93ec7bb63e"
      },
      "execution_count": 34,
      "outputs": [
        {
          "output_type": "stream",
          "name": "stderr",
          "text": [
            "<ipython-input-34-fcaeed657971>:2: FutureWarning: You are using `torch.load` with `weights_only=False` (the current default value), which uses the default pickle module implicitly. It is possible to construct malicious pickle data which will execute arbitrary code during unpickling (See https://github.com/pytorch/pytorch/blob/main/SECURITY.md#untrusted-models for more details). In a future release, the default value for `weights_only` will be flipped to `True`. This limits the functions that could be executed during unpickling. Arbitrary objects will no longer be allowed to be loaded via this mode unless they are explicitly allowlisted by the user via `torch.serialization.add_safe_globals`. We recommend you start setting `weights_only=True` for any use case where you don't have full control of the loaded file. Please open an issue on GitHub for any issues related to this experimental feature.\n",
            "  model.load_state_dict(torch.load(\"best_model.pth\"))\n"
          ]
        },
        {
          "output_type": "stream",
          "name": "stdout",
          "text": [
            "평가 손실 Loss: 801157.3125\n",
            "예측 값: [1747.6905517578125, 1614.135009765625, 2464.04150390625, 6809.4091796875, 1351.9642333984375]\n",
            "실제 값: [3515.615966796875, 1801.115966796875, 2101.248046875, 8693.568359375, 1560.06005859375]\n"
          ]
        },
        {
          "output_type": "display_data",
          "data": {
            "text/plain": [
              "<Figure size 1000x600 with 1 Axes>"
            ],
            "image/png": "[encoded data removed]"
          },
          "metadata": {}
        }
      ]
    },
    {
      "cell_type": "code",
      "source": [
        "# 1. 모델 불러오기\n",
        "model = DNNRegression()  # DNNRegression은 이전에 정의한 모델 클래스\n",
        "model.load_state_dict(torch.load(\"best_model.pth\"))\n",
        "model.eval()\n",
        "\n",
        "\n",
        "X_test = df_test.values  # 예측하려는 y 값('전력사용량(kWh)')은 제외\n",
        "scaler = StandardScaler()\n",
        "\n",
        "# X_test의 첫 번째와 마지막 열을 제외한 나머지 열에 대해 스케일링\n",
        "X_test[:, 1:-1] = scaler.fit_transform(X_test[:, 1:-1])\n",
        "\n",
        "# 3. 데이터를 텐서로 변환 (torch tensor로 변환)\n",
        "\n",
        "X_test_tensor = torch.tensor(X_test, dtype=torch.float32)\n",
        "\n",
        "\n",
        "with torch.no_grad():  # 학습이 아닌 예측이므로 no_grad()를 사용\n",
        "    model = model.to(device)\n",
        "    X_test_tensor = X_test_tensor.to(device)  # GPU 사용시 GPU로 이동\n",
        "    predictions = model(X_test_tensor)  # 예측 수행\n",
        "\n",
        "# 5. 결과 출력\n",
        "predictions = predictions.cpu().numpy()  # GPU에서 CPU로 이동하고 numpy로 변환\n",
        "print(f\"예측 값: {predictions}\")\n",
        "\n"
      ],
      "metadata": {
        "colab": {
          "base_uri": "https://localhost:8080/"
        },
        "id": "Txp7wjQYiPUQ",
        "outputId": "aa27477f-b6d8-4de2-c746-026fab42a808"
      },
      "execution_count": 35,
      "outputs": [
        {
          "output_type": "stream",
          "name": "stdout",
          "text": [
            "예측 값: [[10880.616 ]\n",
            " [10880.262 ]\n",
            " [10879.902 ]\n",
            " ...\n",
            " [ 1828.3806]\n",
            " [ 1828.3806]\n",
            " [ 1828.3806]]\n"
          ]
        },
        {
          "output_type": "stream",
          "name": "stderr",
          "text": [
            "<ipython-input-35-2df1efdc316e>:3: FutureWarning: You are using `torch.load` with `weights_only=False` (the current default value), which uses the default pickle module implicitly. It is possible to construct malicious pickle data which will execute arbitrary code during unpickling (See https://github.com/pytorch/pytorch/blob/main/SECURITY.md#untrusted-models for more details). In a future release, the default value for `weights_only` will be flipped to `True`. This limits the functions that could be executed during unpickling. Arbitrary objects will no longer be allowed to be loaded via this mode unless they are explicitly allowlisted by the user via `torch.serialization.add_safe_globals`. We recommend you start setting `weights_only=True` for any use case where you don't have full control of the loaded file. Please open an issue on GitHub for any issues related to this experimental feature.\n",
            "  model.load_state_dict(torch.load(\"best_model.pth\"))\n"
          ]
        }
      ]
    },
    {
      "cell_type": "code",
      "source": [
        "subset = pd.read_csv('sample_submission.csv')\n",
        "subset['answer'] = predictions\n",
        "subset.to_csv('이용하_딥러닝예측.csv',index = False)"
      ],
      "metadata": {
        "id": "nvG3JADniPUy"
      },
      "execution_count": 36,
      "outputs": []
    },
    {
      "cell_type": "code",
      "source": [],
      "metadata": {
        "id": "uXAQpgtTiPVq"
      },
      "execution_count": null,
      "outputs": []
    },
    {
      "cell_type": "code",
      "source": [],
      "metadata": {
        "id": "1CyRR9gWiOvQ"
      },
      "execution_count": null,
      "outputs": []
    }
  ]
}